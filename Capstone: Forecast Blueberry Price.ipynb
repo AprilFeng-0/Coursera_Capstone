{
    "cells": [
        {
            "cell_type": "markdown",
            "metadata": {
                "collapsed": true
            },
            "source": "## Intro"
        },
        {
            "attachments": {},
            "cell_type": "markdown",
            "metadata": {},
            "source": "Blueberries have been growing in British Columbia for almost one century and BC is the number one highbush blueberry-growing region in the world, with Canada one of the second largest producers and the top blueberry export in the world. According to British Columbia Blueberry Council, the organization that represents over 800 growers in the province, the average blueberry production keeps increasing from 2011 to 2016, reaching 77 million kilograms of blueberries annually from over 11000 hectares of land. Besides, BC has been Canada\u2019s top fruit export by volume and value. As production and export leader, British Columbia mainly exports blueberry to United States, Australia and China, and mainly imports from United States and Chile.\n\nBlueberry season in BC is from July to September. First, we have Duke, our major blueberry variety in BC, then we have Bluecrop and Elliot. During this period, blueberries are both hand-picked and machine harvested. Because they are so versatile, other than being sold fresh, blueberries have many other available formats, such as individual quick frozen, dehydrated, freeze dried, powdered, juice and etc.\n\nThe business questions remains, for both customers and blueberry farmers in BC, how would the price of blueberry go? "
        },
        {
            "cell_type": "markdown",
            "metadata": {},
            "source": "## Data"
        },
        {
            "attachments": {},
            "cell_type": "markdown",
            "metadata": {},
            "source": "\u2022\tTemperatures (previous November, current April and current July)\n\nBlueberry farmers set buds in November, blueberry plant bloom in April and ripen in July, such that temperature in November and April cannot be too high. Whereas, although temperature has been quite important factors, blueberry farmers have not been able to create a benchmark or threshold.\nThe data for temperature is downloaded from Environment and. Climate Canada. The daily data has been averaged to be monthly data to better fulfill our requirements.\n\n\n\u2022\tUS Production\n\nUS is our biggest export destination as well as our biggest import source of blueberry according to export and import data of BC blueberry provided by the Ministry. Imported blueberry from Washington, Oregon and other states would be huge impact to our local blueberry producers. \nData for US production in total is found through United States Department of Agriculture National Agricultural Statistics Service Information (USDA NASS).  Through annual blueberry report, the production of US in total is gained.\n\n\u2022\t Exchange Rate\n\nAs BC is the blueberry produce and export leader, we must consider the impact of exchange rate. First of all, we thought that CEER (Canadian Effective Exchange Rate Index) would be a great indicator, but then we found out Bank of Canada has changed the way of calculating the effective exchange rate recently and data availability for CEER is quite low, only goes back to 1999, which is not quite satisfied. Then I tried to create basket of exchange rates to make an exchange rate index by myself. By calculating the total trading volume, I found that the trade (include both import and export) between U.S., Chile and Japan made up of above 90% of total volume trading. The exchange rate index specifically for BC blueberry is then created by weighted average of averaged annual exchange rate of Canadian dollar with those three countries, with the weights equal to proportion of total trade.\n\n\u2022\tPopulation, household spending and GDP per capita\nOne major factor of blueberry production and price would be the consumption trend and money people spent on food. Whereas, trend of consumption is hard to quantify, thus, we used population, household spending and GDP per capita as proxy of trend and money people spent on food.\nPopulation data for both BC alone and Canada as a whole are from Stats Canada, and data for household spending are from IBIS database, Canadian GDP per capita is retrieved from World Bank.\n"
        },
        {
            "cell_type": "markdown",
            "metadata": {},
            "source": "## Methodology"
        },
        {
            "cell_type": "markdown",
            "metadata": {},
            "source": "Time Series Forecasting would be a great method to utilize for the prediction of a commodity's price. Time series can be seen as sequences of data points measured over successive intervals of time. One major specificity is that the dependence in time and the seasonal behaviors that may appear in their evolution. Indeed the observations are no more independent and some sets of variations along with an increasing or decreasing trend occur according to a particular time frame.\n\nSo the objective for the this task is to develop econometric forecasting models for the price of blueberry. A multivariate forecasting model (ARIMA) for blueberry price is conducted after identifying influential indicators of its price and analyzing data collected.\n\n\n"
        },
        {
            "cell_type": "markdown",
            "metadata": {},
            "source": "## Result"
        },
        {
            "attachments": {},
            "cell_type": "markdown",
            "metadata": {},
            "source": "-\tMultivariate forecasting model:\n\n\nThe automatic ARIMA model generated by EViews ARIMA (8, 1, 5), with 8 AR regressor, 5 MA regressors and raw data of price differenced once to be stationary.\nWhereas, this model has many insignificant independent variables which make them not informative enough. The model ARIMA (8, 1, 5) then went through backward reduction process to eliminate those insignificant variables to reduce the problem of over-fit.\n\n\nAfter the iteration of elimination, the optimal model is ARIMA (8, 1, 0) with independent variables harvested area, household spending, population for BC and Canada, temperature for April and November and GDP per capita.\n\n\nThe latter model has adjusted r^2 0.89, meaning that 89% of variation in dependent variable (the differentiated price) can be explained by the independent variables included. It is a bit lower than the previous model which has adjusted r^2 91%. The absolute value of Akaike Info Criterion is also increased compared with the previous model, from 0.08 to 0.2, meaning that the second model has a relatively lower quality than the first one. Whereas, the difference is not huge and the second model has all variables significant, which means that all variables have significant impact to the dependent variable (differenced price) and the second model is more informative.\n\nThe second multivariate model is chosen between the two ARIMA models above.\n\n-\t Univariate forecasting model 1982-2014\nNext is univariate forecasting, to forecast future price by only historic data on price, with no other independent variables included.\n\t\t\nThe automatic ARIMA model generated on d(p) (differenced price) is ARIMA (6, 1, 2)\n\n\nWith the existence of insignificant independent variables (see model displayed in left screenshot), we removed the most insignificant variables each time, and repeated until the largest AR/MA terms are statistically significant (p-value <= 0.05). 95% confidence interval is used here.\n\nAfter iterations of elimination, the optimal model is: ARIMA (4, 1, 0), displayed in the picture on the right side.\n\nCompare this model with ARIMA (8, 1, 0), adjusted r^2 is exceptionally low and AIC is a bit higher as well. This is understandable, as this univariate model does not include any other exogenous independent variables and thus it is way less informative than the last one. \n\n\n-\tUnivariate forecasting model 1982-2018\n\nThe optimal model is ARIMA (2, 1, 4), with all four MA terms insignificant. We repeated the process of elimination.\n\nNow that we have three plausible forecasting models: multivariate ARIMA (8, 1, 0), univariate ARIMA (4, 1, 0) and univariate ARIMA (2, 1, 4).\n\n\n\n-\tForecast and model evaluation\nUse above three model to forecast price data during 2015-2018 (both dynamic and static)\n\nThe results above show that, by evaluating the error between real price data and forecasted price data in 2014-2018, univariate AR4 (ARIMA (4, 1, 0)) has the smallest error term and thus has been considered the optimal model so far. Noticeably, the dynamic forecast (using forecasted value to forecast) of AR4 is the model with smallest error term, even better than static forecast (keep adjust forecasted value to real value and then forecast).\n"
        },
        {
            "cell_type": "markdown",
            "metadata": {},
            "source": "## Discussion"
        },
        {
            "attachments": {},
            "cell_type": "markdown",
            "metadata": {},
            "source": "One greatest limitation for the model is that it cannot capture seasonality of price due to the low frequency of price data (higher frequency data unavailable). Price of blueberry varies a lot within a year, the price peaks off-season and drops when blueberry production is high (summer). Whereas, if annual data is used, the seasonality of price is smoothed out and cannot be captured.\n\nAnother limitation for the model is low availability of data. For time series forecasting, the more data points we have, normally, we can get a more accurate forecasting since the model has more historic data to learn the trend and pattern. With only thirty-ish data points available, we cannot say that the model is highly reliable.\n\nAnother noticeable point is that, there might be missing variables that we did not include in the multivariate model. Some important independent variables are hard to quantified and thus been eliminated.\n\nInterestingly, although univariate models are less informative and thus have lower potential of fit (highest adjusted r^2), the multivariate model ARIMA (8, 1, 0) turned out to fit the data pattern the worst, and univariate ARIMA (4, 1, 0) turned out to have the lowest error. \n\nIn all, the model may improve with higher frequency of data and more available data points, such that the seasonality can be captured and a more detailed trend/pattern can be studies.\n"
        },
        {
            "cell_type": "code",
            "execution_count": null,
            "metadata": {},
            "outputs": [],
            "source": ""
        }
    ],
    "metadata": {
        "kernelspec": {
            "display_name": "Python 3.7",
            "language": "python",
            "name": "python3"
        },
        "language_info": {
            "codemirror_mode": {
                "name": "ipython",
                "version": 3
            },
            "file_extension": ".py",
            "mimetype": "text/x-python",
            "name": "python",
            "nbconvert_exporter": "python",
            "pygments_lexer": "ipython3",
            "version": "3.7.9"
        }
    },
    "nbformat": 4,
    "nbformat_minor": 1
}