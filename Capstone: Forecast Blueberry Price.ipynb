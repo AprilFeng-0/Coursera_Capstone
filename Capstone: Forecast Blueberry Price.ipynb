{
    "cells": [
        {
            "cell_type": "markdown",
            "metadata": {
                "collapsed": true
            },
            "source": "## Intro"
        },
        {
            "attachments": {},
            "cell_type": "markdown",
            "metadata": {},
            "source": "Blueberries have been growing in British Columbia for almost one century and BC is the number one highbush blueberry-growing region in the world, with Canada one of the second largest producers and the top blueberry export in the world. According to British Columbia Blueberry Council, the organization that represents over 800 growers in the province, the average blueberry production keeps increasing from 2011 to 2016, reaching 77 million kilograms of blueberries annually from over 11000 hectares of land. Besides, BC has been Canada\u2019s top fruit export by volume and value. As production and export leader, British Columbia mainly exports blueberry to United States, Australia and China, and mainly imports from United States and Chile.\n\nBlueberry season in BC is from July to September. First, we have Duke, our major blueberry variety in BC, then we have Bluecrop and Elliot. During this period, blueberries are both hand-picked and machine harvested. Because they are so versatile, other than being sold fresh, blueberries have many other available formats, such as individual quick frozen, dehydrated, freeze dried, powdered, juice and etc.\n\nThe business questions remains, for both customers and blueberry farmers in BC, how would the price of blueberry go? "
        },
        {
            "cell_type": "markdown",
            "metadata": {},
            "source": "## Data"
        },
        {
            "attachments": {},
            "cell_type": "markdown",
            "metadata": {},
            "source": "\u2022\tTemperatures (previous November, current April and current July)\n\nBlueberry farmers set buds in November, blueberry plant bloom in April and ripen in July, such that temperature in November and April cannot be too high. Whereas, although temperature has been quite important factors, blueberry farmers have not been able to create a benchmark or threshold.\nThe data for temperature is downloaded from Environment and. Climate Canada. The daily data has been averaged to be monthly data to better fulfill our requirements.\n\n\n\u2022\tUS Production\n\nUS is our biggest export destination as well as our biggest import source of blueberry according to export and import data of BC blueberry provided by the Ministry. Imported blueberry from Washington, Oregon and other states would be huge impact to our local blueberry producers. \nData for US production in total is found through United States Department of Agriculture National Agricultural Statistics Service Information (USDA NASS).  Through annual blueberry report, the production of US in total is gained.\n\n\u2022\t Exchange Rate\n\nAs BC is the blueberry produce and export leader, we must consider the impact of exchange rate. First of all, we thought that CEER (Canadian Effective Exchange Rate Index) would be a great indicator, but then we found out Bank of Canada has changed the way of calculating the effective exchange rate recently and data availability for CEER is quite low, only goes back to 1999, which is not quite satisfied. Then I tried to create basket of exchange rates to make an exchange rate index by myself. By calculating the total trading volume, I found that the trade (include both import and export) between U.S., Chile and Japan made up of above 90% of total volume trading. The exchange rate index specifically for BC blueberry is then created by weighted average of averaged annual exchange rate of Canadian dollar with those three countries, with the weights equal to proportion of total trade.\n\n\u2022\tPopulation, household spending and GDP per capita\nOne major factor of blueberry production and price would be the consumption trend and money people spent on food. Whereas, trend of consumption is hard to quantify, thus, we used population, household spending and GDP per capita as proxy of trend and money people spent on food.\nPopulation data for both BC alone and Canada as a whole are from Stats Canada, and data for household spending are from IBIS database, Canadian GDP per capita is retrieved from World Bank.\n"
        },
        {
            "cell_type": "code",
            "execution_count": null,
            "metadata": {},
            "outputs": [],
            "source": ""
        }
    ],
    "metadata": {
        "kernelspec": {
            "display_name": "Python 3.7",
            "language": "python",
            "name": "python3"
        },
        "language_info": {
            "codemirror_mode": {
                "name": "ipython",
                "version": 3
            },
            "file_extension": ".py",
            "mimetype": "text/x-python",
            "name": "python",
            "nbconvert_exporter": "python",
            "pygments_lexer": "ipython3",
            "version": "3.7.9"
        }
    },
    "nbformat": 4,
    "nbformat_minor": 1
}